{
 "cells": [
  {
   "cell_type": "code",
   "execution_count": 1,
   "metadata": {},
   "outputs": [],
   "source": [
    "import pywavefront"
   ]
  },
  {
   "cell_type": "markdown",
   "metadata": {},
   "source": [
    "# データ読み込み"
   ]
  },
  {
   "cell_type": "code",
   "execution_count": 2,
   "metadata": {},
   "outputs": [],
   "source": [
    "data = 'data/sample_data.obj'"
   ]
  },
  {
   "cell_type": "code",
   "execution_count": 3,
   "metadata": {},
   "outputs": [],
   "source": [
    "scene = pywavefront.Wavefront(data)"
   ]
  },
  {
   "cell_type": "code",
   "execution_count": 4,
   "metadata": {},
   "outputs": [
    {
     "output_type": "execute_result",
     "data": {
      "text/plain": "45798"
     },
     "metadata": {},
     "execution_count": 4
    }
   ],
   "source": [
    "len(scene.vertices)"
   ]
  },
  {
   "cell_type": "code",
   "execution_count": 5,
   "metadata": {},
   "outputs": [],
   "source": [
    "import pandas as pd"
   ]
  },
  {
   "cell_type": "code",
   "execution_count": 6,
   "metadata": {},
   "outputs": [],
   "source": [
    "df = pd.DataFrame(scene.vertices,columns=['x','y','z','r','g','b'])"
   ]
  },
  {
   "cell_type": "code",
   "execution_count": 7,
   "metadata": {},
   "outputs": [
    {
     "output_type": "execute_result",
     "data": {
      "text/plain": "                  x             y             z             r             g  \\\ncount  45798.000000  45798.000000  45798.000000  45798.000000  45798.000000   \nmean      -0.012032      0.056997     -0.000050      0.374957      0.320720   \nstd        0.150060      0.472951      0.080875      0.187908      0.155195   \nmin       -0.344800     -0.929400     -0.187100      0.000000      0.000000   \n25%       -0.140600     -0.278775     -0.070300      0.184300      0.170025   \n50%       -0.003700      0.070300     -0.000200      0.417500      0.334600   \n75%        0.109400      0.414100      0.067200      0.536000      0.448700   \nmax        0.284200      0.947500      0.153900      0.755300      0.674000   \n\n                  b  \ncount  45798.000000  \nmean       0.254689  \nstd        0.102629  \nmin        0.000000  \n25%        0.163800  \n50%        0.263400  \n75%        0.334700  \nmax        0.533100  ",
      "text/html": "<div>\n<style scoped>\n    .dataframe tbody tr th:only-of-type {\n        vertical-align: middle;\n    }\n\n    .dataframe tbody tr th {\n        vertical-align: top;\n    }\n\n    .dataframe thead th {\n        text-align: right;\n    }\n</style>\n<table border=\"1\" class=\"dataframe\">\n  <thead>\n    <tr style=\"text-align: right;\">\n      <th></th>\n      <th>x</th>\n      <th>y</th>\n      <th>z</th>\n      <th>r</th>\n      <th>g</th>\n      <th>b</th>\n    </tr>\n  </thead>\n  <tbody>\n    <tr>\n      <th>count</th>\n      <td>45798.000000</td>\n      <td>45798.000000</td>\n      <td>45798.000000</td>\n      <td>45798.000000</td>\n      <td>45798.000000</td>\n      <td>45798.000000</td>\n    </tr>\n    <tr>\n      <th>mean</th>\n      <td>-0.012032</td>\n      <td>0.056997</td>\n      <td>-0.000050</td>\n      <td>0.374957</td>\n      <td>0.320720</td>\n      <td>0.254689</td>\n    </tr>\n    <tr>\n      <th>std</th>\n      <td>0.150060</td>\n      <td>0.472951</td>\n      <td>0.080875</td>\n      <td>0.187908</td>\n      <td>0.155195</td>\n      <td>0.102629</td>\n    </tr>\n    <tr>\n      <th>min</th>\n      <td>-0.344800</td>\n      <td>-0.929400</td>\n      <td>-0.187100</td>\n      <td>0.000000</td>\n      <td>0.000000</td>\n      <td>0.000000</td>\n    </tr>\n    <tr>\n      <th>25%</th>\n      <td>-0.140600</td>\n      <td>-0.278775</td>\n      <td>-0.070300</td>\n      <td>0.184300</td>\n      <td>0.170025</td>\n      <td>0.163800</td>\n    </tr>\n    <tr>\n      <th>50%</th>\n      <td>-0.003700</td>\n      <td>0.070300</td>\n      <td>-0.000200</td>\n      <td>0.417500</td>\n      <td>0.334600</td>\n      <td>0.263400</td>\n    </tr>\n    <tr>\n      <th>75%</th>\n      <td>0.109400</td>\n      <td>0.414100</td>\n      <td>0.067200</td>\n      <td>0.536000</td>\n      <td>0.448700</td>\n      <td>0.334700</td>\n    </tr>\n    <tr>\n      <th>max</th>\n      <td>0.284200</td>\n      <td>0.947500</td>\n      <td>0.153900</td>\n      <td>0.755300</td>\n      <td>0.674000</td>\n      <td>0.533100</td>\n    </tr>\n  </tbody>\n</table>\n</div>"
     },
     "metadata": {},
     "execution_count": 7
    }
   ],
   "source": [
    "df.describe()"
   ]
  },
  {
   "cell_type": "markdown",
   "metadata": {},
   "source": [
    "# `(x,y,z)`座標を0起点に変換"
   ]
  },
  {
   "cell_type": "code",
   "execution_count": 9,
   "metadata": {},
   "outputs": [
    {
     "output_type": "execute_result",
     "data": {
      "text/plain": "                  x             y             z\ncount  45798.000000  45798.000000  45798.000000\nmean       0.332768      0.986397      0.187050\nstd        0.150060      0.472951      0.080875\nmin        0.000000      0.000000      0.000000\n25%        0.204200      0.650625      0.116800\n50%        0.341100      0.999700      0.186900\n75%        0.454200      1.343500      0.254300\nmax        0.629000      1.876900      0.341000",
      "text/html": "<div>\n<style scoped>\n    .dataframe tbody tr th:only-of-type {\n        vertical-align: middle;\n    }\n\n    .dataframe tbody tr th {\n        vertical-align: top;\n    }\n\n    .dataframe thead th {\n        text-align: right;\n    }\n</style>\n<table border=\"1\" class=\"dataframe\">\n  <thead>\n    <tr style=\"text-align: right;\">\n      <th></th>\n      <th>x</th>\n      <th>y</th>\n      <th>z</th>\n    </tr>\n  </thead>\n  <tbody>\n    <tr>\n      <th>count</th>\n      <td>45798.000000</td>\n      <td>45798.000000</td>\n      <td>45798.000000</td>\n    </tr>\n    <tr>\n      <th>mean</th>\n      <td>0.332768</td>\n      <td>0.986397</td>\n      <td>0.187050</td>\n    </tr>\n    <tr>\n      <th>std</th>\n      <td>0.150060</td>\n      <td>0.472951</td>\n      <td>0.080875</td>\n    </tr>\n    <tr>\n      <th>min</th>\n      <td>0.000000</td>\n      <td>0.000000</td>\n      <td>0.000000</td>\n    </tr>\n    <tr>\n      <th>25%</th>\n      <td>0.204200</td>\n      <td>0.650625</td>\n      <td>0.116800</td>\n    </tr>\n    <tr>\n      <th>50%</th>\n      <td>0.341100</td>\n      <td>0.999700</td>\n      <td>0.186900</td>\n    </tr>\n    <tr>\n      <th>75%</th>\n      <td>0.454200</td>\n      <td>1.343500</td>\n      <td>0.254300</td>\n    </tr>\n    <tr>\n      <th>max</th>\n      <td>0.629000</td>\n      <td>1.876900</td>\n      <td>0.341000</td>\n    </tr>\n  </tbody>\n</table>\n</div>"
     },
     "metadata": {},
     "execution_count": 9
    }
   ],
   "source": [
    "idxs = ['x','y','z']\n",
    "df[idxs] = df[idxs] - df[idxs].apply(min)\n",
    "'''\n",
    "for idx in idxs:\n",
    "    df[idx] = df[idx] - min(df[idx])\n",
    "'''\n",
    "df[idxs].describe()"
   ]
  },
  {
   "cell_type": "markdown",
   "metadata": {},
   "source": [
    "# `(x,y,z)`座標の拡大倍率を決定する"
   ]
  },
  {
   "cell_type": "code",
   "execution_count": 21,
   "metadata": {},
   "outputs": [
    {
     "output_type": "stream",
     "name": "stdout",
     "text": "col: y\nmax_val: 1.8769\nCPU times: user 21.4 ms, sys: 1.96 ms, total: 23.4 ms\nWall time: 25.5 ms\n"
    }
   ],
   "source": [
    "%%time\n",
    "max_series = df[idxs].apply(max)\n",
    "max_val = max_series.max()\n",
    "max_idx = max_series.idxmax()\n",
    "'''\n",
    "for idx in idxs:\n",
    "    if max_val < max(df[idx]):\n",
    "        max_val = max(df[idx])\n",
    "        max_idx = idx\n",
    "'''\n",
    "print('col:',max_idx)\n",
    "print('max_val:',max_val)"
   ]
  },
  {
   "cell_type": "code",
   "execution_count": 30,
   "metadata": {},
   "outputs": [
    {
     "output_type": "stream",
     "name": "stdout",
     "text": "zoom_ratio: 1.003921568627451\n"
    }
   ],
   "source": [
    "HEIGHT_MAX = 256\n",
    "WIDTH_MAX = 256\n",
    "if max_idx in ['x','z']:\n",
    "    zoom_ratio = WIDTH_MAX / max_val\n",
    "else:\n",
    "    zoom_ratio = HEIGHT_MAX / max_val\n",
    "print('zoom_ratio:',zoom_ratio)"
   ]
  },
  {
   "cell_type": "code",
   "execution_count": 14,
   "metadata": {},
   "outputs": [
    {
     "output_type": "execute_result",
     "data": {
      "text/plain": "                  x             y             z\ncount  45798.000000  45798.000000  45798.000000\nmean      45.387956    134.539772     25.512647\nstd       20.467400     64.508159     11.030891\nmin        0.000000      0.000000      0.000000\n25%       27.851883     88.742075     15.930950\n50%       46.524375    136.354201     25.492248\n75%       61.950663    183.246843     34.685279\nmax       85.792530    256.000000     46.510736",
      "text/html": "<div>\n<style scoped>\n    .dataframe tbody tr th:only-of-type {\n        vertical-align: middle;\n    }\n\n    .dataframe tbody tr th {\n        vertical-align: top;\n    }\n\n    .dataframe thead th {\n        text-align: right;\n    }\n</style>\n<table border=\"1\" class=\"dataframe\">\n  <thead>\n    <tr style=\"text-align: right;\">\n      <th></th>\n      <th>x</th>\n      <th>y</th>\n      <th>z</th>\n    </tr>\n  </thead>\n  <tbody>\n    <tr>\n      <th>count</th>\n      <td>45798.000000</td>\n      <td>45798.000000</td>\n      <td>45798.000000</td>\n    </tr>\n    <tr>\n      <th>mean</th>\n      <td>45.387956</td>\n      <td>134.539772</td>\n      <td>25.512647</td>\n    </tr>\n    <tr>\n      <th>std</th>\n      <td>20.467400</td>\n      <td>64.508159</td>\n      <td>11.030891</td>\n    </tr>\n    <tr>\n      <th>min</th>\n      <td>0.000000</td>\n      <td>0.000000</td>\n      <td>0.000000</td>\n    </tr>\n    <tr>\n      <th>25%</th>\n      <td>27.851883</td>\n      <td>88.742075</td>\n      <td>15.930950</td>\n    </tr>\n    <tr>\n      <th>50%</th>\n      <td>46.524375</td>\n      <td>136.354201</td>\n      <td>25.492248</td>\n    </tr>\n    <tr>\n      <th>75%</th>\n      <td>61.950663</td>\n      <td>183.246843</td>\n      <td>34.685279</td>\n    </tr>\n    <tr>\n      <th>max</th>\n      <td>85.792530</td>\n      <td>256.000000</td>\n      <td>46.510736</td>\n    </tr>\n  </tbody>\n</table>\n</div>"
     },
     "metadata": {},
     "execution_count": 14
    }
   ],
   "source": [
    "for idx in idxs:\n",
    "    df[idx] = df[idx] * zoom_ratio\n",
    "df[idxs].describe()"
   ]
  },
  {
   "cell_type": "markdown",
   "metadata": {},
   "source": [
    "# 外接矩形領域の始点終点"
   ]
  },
  {
   "cell_type": "code",
   "execution_count": 15,
   "metadata": {},
   "outputs": [
    {
     "output_type": "stream",
     "name": "stdout",
     "text": "(0, 0, 0) (85.79253023602749, 255.99999999999997, 46.510735787735086)\n"
    }
   ],
   "source": [
    "bounds_s = (0,0,0)\n",
    "bounds_e = (max(df['x']),max(df['y']),max(df['z']))\n",
    "print(bounds_s,bounds_e)"
   ]
  },
  {
   "cell_type": "markdown",
   "metadata": {},
   "source": [
    "# 色情報を復元\n",
    "値が`1.0`の場合に最大値(`255`)となるように変換  \n",
    "※これであってるのかは不明"
   ]
  },
  {
   "cell_type": "code",
   "execution_count": 16,
   "metadata": {},
   "outputs": [
    {
     "output_type": "execute_result",
     "data": {
      "text/plain": "                  r             g             b\ncount  45798.000000  45798.000000  45798.000000\nmean      95.614076     81.783594     64.945790\nstd       47.916463     39.574685     26.170374\nmin        0.000000      0.000000      0.000000\n25%       46.996500     43.356375     41.769000\n50%      106.462500     85.323000     67.167000\n75%      136.680000    114.418500     85.348500\nmax      192.601500    171.870000    135.940500",
      "text/html": "<div>\n<style scoped>\n    .dataframe tbody tr th:only-of-type {\n        vertical-align: middle;\n    }\n\n    .dataframe tbody tr th {\n        vertical-align: top;\n    }\n\n    .dataframe thead th {\n        text-align: right;\n    }\n</style>\n<table border=\"1\" class=\"dataframe\">\n  <thead>\n    <tr style=\"text-align: right;\">\n      <th></th>\n      <th>r</th>\n      <th>g</th>\n      <th>b</th>\n    </tr>\n  </thead>\n  <tbody>\n    <tr>\n      <th>count</th>\n      <td>45798.000000</td>\n      <td>45798.000000</td>\n      <td>45798.000000</td>\n    </tr>\n    <tr>\n      <th>mean</th>\n      <td>95.614076</td>\n      <td>81.783594</td>\n      <td>64.945790</td>\n    </tr>\n    <tr>\n      <th>std</th>\n      <td>47.916463</td>\n      <td>39.574685</td>\n      <td>26.170374</td>\n    </tr>\n    <tr>\n      <th>min</th>\n      <td>0.000000</td>\n      <td>0.000000</td>\n      <td>0.000000</td>\n    </tr>\n    <tr>\n      <th>25%</th>\n      <td>46.996500</td>\n      <td>43.356375</td>\n      <td>41.769000</td>\n    </tr>\n    <tr>\n      <th>50%</th>\n      <td>106.462500</td>\n      <td>85.323000</td>\n      <td>67.167000</td>\n    </tr>\n    <tr>\n      <th>75%</th>\n      <td>136.680000</td>\n      <td>114.418500</td>\n      <td>85.348500</td>\n    </tr>\n    <tr>\n      <th>max</th>\n      <td>192.601500</td>\n      <td>171.870000</td>\n      <td>135.940500</td>\n    </tr>\n  </tbody>\n</table>\n</div>"
     },
     "metadata": {},
     "execution_count": 16
    }
   ],
   "source": [
    "COLOR_MAX = 255\n",
    "colors = ['r','g','b']\n",
    "for color in colors:\n",
    "    df[color] = df[color] * COLOR_MAX\n",
    "df[colors].describe()"
   ]
  },
  {
   "cell_type": "code",
   "execution_count": 26,
   "metadata": {},
   "outputs": [
    {
     "output_type": "execute_result",
     "data": {
      "text/plain": "                  x             y             z             r             g  \\\ncount  45798.000000  45798.000000  45798.000000  45798.000000  45798.000000   \nmean      44.887178    134.040264     24.999061     95.614076     81.783594   \nstd       20.483990     64.503953     11.047317     47.916463     39.574685   \nmin        0.000000      0.000000      0.000000      0.000000      0.000000   \n25%       27.000000     88.000000     15.000000     46.996500     43.356375   \n50%       46.000000    136.000000     25.000000    106.462500     85.323000   \n75%       61.000000    183.000000     34.000000    136.680000    114.418500   \nmax       85.000000    255.000000     46.000000    192.601500    171.870000   \n\n                  b  \ncount  45798.000000  \nmean      64.945790  \nstd       26.170374  \nmin        0.000000  \n25%       41.769000  \n50%       67.167000  \n75%       85.348500  \nmax      135.940500  ",
      "text/html": "<div>\n<style scoped>\n    .dataframe tbody tr th:only-of-type {\n        vertical-align: middle;\n    }\n\n    .dataframe tbody tr th {\n        vertical-align: top;\n    }\n\n    .dataframe thead th {\n        text-align: right;\n    }\n</style>\n<table border=\"1\" class=\"dataframe\">\n  <thead>\n    <tr style=\"text-align: right;\">\n      <th></th>\n      <th>x</th>\n      <th>y</th>\n      <th>z</th>\n      <th>r</th>\n      <th>g</th>\n      <th>b</th>\n    </tr>\n  </thead>\n  <tbody>\n    <tr>\n      <th>count</th>\n      <td>45798.000000</td>\n      <td>45798.000000</td>\n      <td>45798.000000</td>\n      <td>45798.000000</td>\n      <td>45798.000000</td>\n      <td>45798.000000</td>\n    </tr>\n    <tr>\n      <th>mean</th>\n      <td>44.887178</td>\n      <td>134.040264</td>\n      <td>24.999061</td>\n      <td>95.614076</td>\n      <td>81.783594</td>\n      <td>64.945790</td>\n    </tr>\n    <tr>\n      <th>std</th>\n      <td>20.483990</td>\n      <td>64.503953</td>\n      <td>11.047317</td>\n      <td>47.916463</td>\n      <td>39.574685</td>\n      <td>26.170374</td>\n    </tr>\n    <tr>\n      <th>min</th>\n      <td>0.000000</td>\n      <td>0.000000</td>\n      <td>0.000000</td>\n      <td>0.000000</td>\n      <td>0.000000</td>\n      <td>0.000000</td>\n    </tr>\n    <tr>\n      <th>25%</th>\n      <td>27.000000</td>\n      <td>88.000000</td>\n      <td>15.000000</td>\n      <td>46.996500</td>\n      <td>43.356375</td>\n      <td>41.769000</td>\n    </tr>\n    <tr>\n      <th>50%</th>\n      <td>46.000000</td>\n      <td>136.000000</td>\n      <td>25.000000</td>\n      <td>106.462500</td>\n      <td>85.323000</td>\n      <td>67.167000</td>\n    </tr>\n    <tr>\n      <th>75%</th>\n      <td>61.000000</td>\n      <td>183.000000</td>\n      <td>34.000000</td>\n      <td>136.680000</td>\n      <td>114.418500</td>\n      <td>85.348500</td>\n    </tr>\n    <tr>\n      <th>max</th>\n      <td>85.000000</td>\n      <td>255.000000</td>\n      <td>46.000000</td>\n      <td>192.601500</td>\n      <td>171.870000</td>\n      <td>135.940500</td>\n    </tr>\n  </tbody>\n</table>\n</div>"
     },
     "metadata": {},
     "execution_count": 26
    }
   ],
   "source": [
    "df.describe()"
   ]
  },
  {
   "cell_type": "markdown",
   "metadata": {},
   "source": [
    "# 各ボクセルの色の代表値を決める"
   ]
  },
  {
   "cell_type": "code",
   "execution_count": 17,
   "metadata": {},
   "outputs": [
    {
     "output_type": "execute_result",
     "data": {
      "text/plain": "(86, 256, 47, 3)"
     },
     "metadata": {},
     "execution_count": 17
    }
   ],
   "source": [
    "import numpy as np\n",
    "from math import ceil\n",
    "typycal_colors = np.zeros((ceil(bounds_e[0]),ceil(bounds_e[1]),ceil(bounds_e[2]),3))\n",
    "typycal_colors.shape"
   ]
  },
  {
   "cell_type": "markdown",
   "metadata": {},
   "source": [
    "# 以下は計算の高速化をすること"
   ]
  },
  {
   "cell_type": "code",
   "execution_count": 18,
   "metadata": {},
   "outputs": [],
   "source": [
    "from math import floor\n",
    "for idx in idxs:\n",
    "    df[idx] = np.floor(df[idx])"
   ]
  },
  {
   "cell_type": "code",
   "execution_count": 19,
   "metadata": {
    "tags": [
     "outputPrepend",
     "outputPrepend",
     "outputPrepend",
     "outputPrepend",
     "outputPrepend",
     "outputPrepend",
     "outputPrepend",
     "outputPrepend",
     "outputPrepend",
     "outputPrepend",
     "outputPrepend",
     "outputPrepend",
     "outputPrepend",
     "outputPrepend",
     "outputPrepend",
     "outputPrepend",
     "outputPrepend",
     "outputPrepend",
     "outputPrepend",
     "outputPrepend",
     "outputPrepend",
     "outputPrepend",
     "outputPrepend",
     "outputPrepend",
     "outputPrepend",
     "outputPrepend",
     "outputPrepend",
     "outputPrepend",
     "outputPrepend",
     "outputPrepend",
     "outputPrepend",
     "outputPrepend",
     "outputPrepend",
     "outputPrepend",
     "outputPrepend",
     "outputPrepend",
     "outputPrepend",
     "outputPrepend",
     "outputPrepend",
     "outputPrepend",
     "outputPrepend",
     "outputPrepend",
     "outputPrepend",
     "outputPrepend",
     "outputPrepend",
     "outputPrepend",
     "outputPrepend",
     "outputPrepend",
     "outputPrepend",
     "outputPrepend",
     "outputPrepend",
     "outputPrepend",
     "outputPrepend",
     "outputPrepend",
     "outputPrepend",
     "outputPrepend",
     "outputPrepend",
     "outputPrepend",
     "outputPrepend",
     "outputPrepend",
     "outputPrepend",
     "outputPrepend",
     "outputPrepend",
     "outputPrepend",
     "outputPrepend",
     "outputPrepend",
     "outputPrepend",
     "outputPrepend",
     "outputPrepend",
     "outputPrepend",
     "outputPrepend",
     "outputPrepend",
     "outputPrepend",
     "outputPrepend",
     "outputPrepend",
     "outputPrepend",
     "outputPrepend",
     "outputPrepend",
     "outputPrepend",
     "outputPrepend",
     "outputPrepend",
     "outputPrepend",
     "outputPrepend",
     "outputPrepend",
     "outputPrepend",
     "outputPrepend",
     "outputPrepend",
     "outputPrepend",
     "outputPrepend",
     "outputPrepend",
     "outputPrepend",
     "outputPrepend",
     "outputPrepend",
     "outputPrepend",
     "outputPrepend",
     "outputPrepend",
     "outputPrepend",
     "outputPrepend",
     "outputPrepend",
     "outputPrepend",
     "outputPrepend",
     "outputPrepend",
     "outputPrepend",
     "outputPrepend",
     "outputPrepend",
     "outputPrepend",
     "outputPrepend",
     "outputPrepend",
     "outputPrepend",
     "outputPrepend",
     "outputPrepend",
     "outputPrepend",
     "outputPrepend",
     "outputPrepend",
     "outputPrepend",
     "outputPrepend",
     "outputPrepend",
     "outputPrepend",
     "outputPrepend",
     "outputPrepend",
     "outputPrepend",
     "outputPrepend",
     "outputPrepend",
     "outputPrepend",
     "outputPrepend",
     "outputPrepend",
     "outputPrepend",
     "outputPrepend",
     "outputPrepend",
     "outputPrepend",
     "outputPrepend",
     "outputPrepend",
     "outputPrepend",
     "outputPrepend",
     "outputPrepend",
     "outputPrepend",
     "outputPrepend",
     "outputPrepend",
     "outputPrepend",
     "outputPrepend",
     "outputPrepend",
     "outputPrepend",
     "outputPrepend",
     "outputPrepend",
     "outputPrepend",
     "outputPrepend",
     "outputPrepend",
     "outputPrepend",
     "outputPrepend",
     "outputPrepend",
     "outputPrepend",
     "outputPrepend",
     "outputPrepend",
     "outputPrepend",
     "outputPrepend",
     "outputPrepend",
     "outputPrepend",
     "outputPrepend",
     "outputPrepend",
     "outputPrepend",
     "outputPrepend",
     "outputPrepend",
     "outputPrepend",
     "outputPrepend",
     "outputPrepend",
     "outputPrepend",
     "outputPrepend",
     "outputPrepend",
     "outputPrepend",
     "outputPrepend",
     "outputPrepend",
     "outputPrepend",
     "outputPrepend",
     "outputPrepend",
     "outputPrepend",
     "outputPrepend",
     "outputPrepend",
     "outputPrepend",
     "outputPrepend",
     "outputPrepend",
     "outputPrepend",
     "outputPrepend",
     "outputPrepend",
     "outputPrepend",
     "outputPrepend",
     "outputPrepend",
     "outputPrepend",
     "outputPrepend",
     "outputPrepend",
     "outputPrepend",
     "outputPrepend",
     "outputPrepend",
     "outputPrepend",
     "outputPrepend",
     "outputPrepend",
     "outputPrepend",
     "outputPrepend",
     "outputPrepend",
     "outputPrepend",
     "outputPrepend",
     "outputPrepend",
     "outputPrepend",
     "outputPrepend",
     "outputPrepend",
     "outputPrepend",
     "outputPrepend",
     "outputPrepend",
     "outputPrepend",
     "outputPrepend",
     "outputPrepend",
     "outputPrepend",
     "outputPrepend",
     "outputPrepend",
     "outputPrepend",
     "outputPrepend",
     "outputPrepend",
     "outputPrepend",
     "outputPrepend",
     "outputPrepend",
     "outputPrepend",
     "outputPrepend",
     "outputPrepend",
     "outputPrepend",
     "outputPrepend",
     "outputPrepend",
     "outputPrepend",
     "outputPrepend",
     "outputPrepend",
     "outputPrepend",
     "outputPrepend",
     "outputPrepend",
     "outputPrepend",
     "outputPrepend",
     "outputPrepend",
     "outputPrepend",
     "outputPrepend",
     "outputPrepend",
     "outputPrepend",
     "outputPrepend",
     "outputPrepend",
     "outputPrepend",
     "outputPrepend",
     "outputPrepend",
     "outputPrepend",
     "outputPrepend",
     "outputPrepend",
     "outputPrepend",
     "outputPrepend",
     "outputPrepend",
     "outputPrepend",
     "outputPrepend",
     "outputPrepend",
     "outputPrepend",
     "outputPrepend",
     "outputPrepend",
     "outputPrepend",
     "outputPrepend",
     "outputPrepend",
     "outputPrepend",
     "outputPrepend",
     "outputPrepend",
     "outputPrepend",
     "outputPrepend",
     "outputPrepend",
     "outputPrepend",
     "outputPrepend",
     "outputPrepend",
     "outputPrepend",
     "outputPrepend",
     "outputPrepend",
     "outputPrepend",
     "outputPrepend",
     "outputPrepend",
     "outputPrepend",
     "outputPrepend",
     "outputPrepend",
     "outputPrepend",
     "outputPrepend",
     "outputPrepend",
     "outputPrepend",
     "outputPrepend",
     "outputPrepend",
     "outputPrepend",
     "outputPrepend",
     "outputPrepend",
     "outputPrepend",
     "outputPrepend",
     "outputPrepend",
     "outputPrepend",
     "outputPrepend",
     "outputPrepend",
     "outputPrepend",
     "outputPrepend",
     "outputPrepend",
     "outputPrepend",
     "outputPrepend",
     "outputPrepend",
     "outputPrepend",
     "outputPrepend",
     "outputPrepend",
     "outputPrepend",
     "outputPrepend",
     "outputPrepend",
     "outputPrepend",
     "outputPrepend",
     "outputPrepend",
     "outputPrepend",
     "outputPrepend",
     "outputPrepend",
     "outputPrepend",
     "outputPrepend",
     "outputPrepend",
     "outputPrepend",
     "outputPrepend",
     "outputPrepend",
     "outputPrepend",
     "outputPrepend",
     "outputPrepend",
     "outputPrepend",
     "outputPrepend",
     "outputPrepend",
     "outputPrepend",
     "outputPrepend",
     "outputPrepend",
     "outputPrepend",
     "outputPrepend",
     "outputPrepend",
     "outputPrepend",
     "outputPrepend",
     "outputPrepend",
     "outputPrepend",
     "outputPrepend",
     "outputPrepend",
     "outputPrepend",
     "outputPrepend",
     "outputPrepend",
     "outputPrepend",
     "outputPrepend",
     "outputPrepend",
     "outputPrepend",
     "outputPrepend",
     "outputPrepend",
     "outputPrepend",
     "outputPrepend",
     "outputPrepend",
     "outputPrepend",
     "outputPrepend",
     "outputPrepend",
     "outputPrepend",
     "outputPrepend",
     "outputPrepend",
     "outputPrepend",
     "outputPrepend",
     "outputPrepend",
     "outputPrepend",
     "outputPrepend",
     "outputPrepend",
     "outputPrepend",
     "outputPrepend",
     "outputPrepend",
     "outputPrepend",
     "outputPrepend",
     "outputPrepend",
     "outputPrepend",
     "outputPrepend",
     "outputPrepend",
     "outputPrepend",
     "outputPrepend",
     "outputPrepend",
     "outputPrepend",
     "outputPrepend",
     "outputPrepend",
     "outputPrepend",
     "outputPrepend",
     "outputPrepend",
     "outputPrepend",
     "outputPrepend",
     "outputPrepend",
     "outputPrepend",
     "outputPrepend",
     "outputPrepend",
     "outputPrepend",
     "outputPrepend",
     "outputPrepend",
     "outputPrepend",
     "outputPrepend",
     "outputPrepend",
     "outputPrepend",
     "outputPrepend",
     "outputPrepend",
     "outputPrepend",
     "outputPrepend",
     "outputPrepend",
     "outputPrepend",
     "outputPrepend",
     "outputPrepend",
     "outputPrepend",
     "outputPrepend",
     "outputPrepend",
     "outputPrepend",
     "outputPrepend",
     "outputPrepend",
     "outputPrepend",
     "outputPrepend",
     "outputPrepend",
     "outputPrepend",
     "outputPrepend",
     "outputPrepend",
     "outputPrepend",
     "outputPrepend",
     "outputPrepend",
     "outputPrepend",
     "outputPrepend",
     "outputPrepend",
     "outputPrepend",
     "outputPrepend",
     "outputPrepend",
     "outputPrepend",
     "outputPrepend",
     "outputPrepend",
     "outputPrepend",
     "outputPrepend",
     "outputPrepend",
     "outputPrepend",
     "outputPrepend",
     "outputPrepend",
     "outputPrepend",
     "outputPrepend",
     "outputPrepend",
     "outputPrepend",
     "outputPrepend",
     "outputPrepend",
     "outputPrepend",
     "outputPrepend",
     "outputPrepend",
     "outputPrepend",
     "outputPrepend",
     "outputPrepend",
     "outputPrepend",
     "outputPrepend",
     "outputPrepend",
     "outputPrepend",
     "outputPrepend",
     "outputPrepend",
     "outputPrepend",
     "outputPrepend",
     "outputPrepend",
     "outputPrepend",
     "outputPrepend",
     "outputPrepend",
     "outputPrepend",
     "outputPrepend",
     "outputPrepend",
     "outputPrepend",
     "outputPrepend",
     "outputPrepend",
     "outputPrepend",
     "outputPrepend",
     "outputPrepend",
     "outputPrepend",
     "outputPrepend",
     "outputPrepend",
     "outputPrepend",
     "outputPrepend",
     "outputPrepend",
     "outputPrepend",
     "outputPrepend",
     "outputPrepend",
     "outputPrepend",
     "outputPrepend",
     "outputPrepend",
     "outputPrepend",
     "outputPrepend",
     "outputPrepend",
     "outputPrepend",
     "outputPrepend",
     "outputPrepend",
     "outputPrepend",
     "outputPrepend",
     "outputPrepend",
     "outputPrepend",
     "outputPrepend",
     "outputPrepend",
     "outputPrepend",
     "outputPrepend",
     "outputPrepend",
     "outputPrepend",
     "outputPrepend",
     "outputPrepend",
     "outputPrepend",
     "outputPrepend",
     "outputPrepend",
     "outputPrepend",
     "outputPrepend",
     "outputPrepend",
     "outputPrepend",
     "outputPrepend",
     "outputPrepend",
     "outputPrepend",
     "outputPrepend",
     "outputPrepend",
     "outputPrepend",
     "outputPrepend",
     "outputPrepend",
     "outputPrepend",
     "outputPrepend",
     "outputPrepend",
     "outputPrepend",
     "outputPrepend",
     "outputPrepend",
     "outputPrepend",
     "outputPrepend",
     "outputPrepend",
     "outputPrepend",
     "outputPrepend",
     "outputPrepend",
     "outputPrepend",
     "outputPrepend",
     "outputPrepend",
     "outputPrepend",
     "outputPrepend",
     "outputPrepend",
     "outputPrepend",
     "outputPrepend"
    ]
   },
   "outputs": [
    {
     "output_type": "stream",
     "name": "stderr",
     "text": "100%|██████████| 86/86 [17:09<00:00, 11.97s/it]\n"
    },
    {
     "output_type": "execute_result",
     "data": {
      "text/plain": "array([[[[0., 0., 0.],\n         [0., 0., 0.],\n         [0., 0., 0.],\n         ...,\n         [0., 0., 0.],\n         [0., 0., 0.],\n         [0., 0., 0.]],\n\n        [[0., 0., 0.],\n         [0., 0., 0.],\n         [0., 0., 0.],\n         ...,\n         [0., 0., 0.],\n         [0., 0., 0.],\n         [0., 0., 0.]],\n\n        [[0., 0., 0.],\n         [0., 0., 0.],\n         [0., 0., 0.],\n         ...,\n         [0., 0., 0.],\n         [0., 0., 0.],\n         [0., 0., 0.]],\n\n        ...,\n\n        [[0., 0., 0.],\n         [0., 0., 0.],\n         [0., 0., 0.],\n         ...,\n         [0., 0., 0.],\n         [0., 0., 0.],\n         [0., 0., 0.]],\n\n        [[0., 0., 0.],\n         [0., 0., 0.],\n         [0., 0., 0.],\n         ...,\n         [0., 0., 0.],\n         [0., 0., 0.],\n         [0., 0., 0.]],\n\n        [[0., 0., 0.],\n         [0., 0., 0.],\n         [0., 0., 0.],\n         ...,\n         [0., 0., 0.],\n         [0., 0., 0.],\n         [0., 0., 0.]]],\n\n\n       [[[0., 0., 0.],\n         [0., 0., 0.],\n         [0., 0., 0.],\n         ...,\n         [0., 0., 0.],\n         [0., 0., 0.],\n         [0., 0., 0.]],\n\n        [[0., 0., 0.],\n         [0., 0., 0.],\n         [0., 0., 0.],\n         ...,\n         [0., 0., 0.],\n         [0., 0., 0.],\n         [0., 0., 0.]],\n\n        [[0., 0., 0.],\n         [0., 0., 0.],\n         [0., 0., 0.],\n         ...,\n         [0., 0., 0.],\n         [0., 0., 0.],\n         [0., 0., 0.]],\n\n        ...,\n\n        [[0., 0., 0.],\n         [0., 0., 0.],\n         [0., 0., 0.],\n         ...,\n         [0., 0., 0.],\n         [0., 0., 0.],\n         [0., 0., 0.]],\n\n        [[0., 0., 0.],\n         [0., 0., 0.],\n         [0., 0., 0.],\n         ...,\n         [0., 0., 0.],\n         [0., 0., 0.],\n         [0., 0., 0.]],\n\n        [[0., 0., 0.],\n         [0., 0., 0.],\n         [0., 0., 0.],\n         ...,\n         [0., 0., 0.],\n         [0., 0., 0.],\n         [0., 0., 0.]]],\n\n\n       [[[0., 0., 0.],\n         [0., 0., 0.],\n         [0., 0., 0.],\n         ...,\n         [0., 0., 0.],\n         [0., 0., 0.],\n         [0., 0., 0.]],\n\n        [[0., 0., 0.],\n         [0., 0., 0.],\n         [0., 0., 0.],\n         ...,\n         [0., 0., 0.],\n         [0., 0., 0.],\n         [0., 0., 0.]],\n\n        [[0., 0., 0.],\n         [0., 0., 0.],\n         [0., 0., 0.],\n         ...,\n         [0., 0., 0.],\n         [0., 0., 0.],\n         [0., 0., 0.]],\n\n        ...,\n\n        [[0., 0., 0.],\n         [0., 0., 0.],\n         [0., 0., 0.],\n         ...,\n         [0., 0., 0.],\n         [0., 0., 0.],\n         [0., 0., 0.]],\n\n        [[0., 0., 0.],\n         [0., 0., 0.],\n         [0., 0., 0.],\n         ...,\n         [0., 0., 0.],\n         [0., 0., 0.],\n         [0., 0., 0.]],\n\n        [[0., 0., 0.],\n         [0., 0., 0.],\n         [0., 0., 0.],\n         ...,\n         [0., 0., 0.],\n         [0., 0., 0.],\n         [0., 0., 0.]]],\n\n\n       ...,\n\n\n       [[[0., 0., 0.],\n         [0., 0., 0.],\n         [0., 0., 0.],\n         ...,\n         [0., 0., 0.],\n         [0., 0., 0.],\n         [0., 0., 0.]],\n\n        [[0., 0., 0.],\n         [0., 0., 0.],\n         [0., 0., 0.],\n         ...,\n         [0., 0., 0.],\n         [0., 0., 0.],\n         [0., 0., 0.]],\n\n        [[0., 0., 0.],\n         [0., 0., 0.],\n         [0., 0., 0.],\n         ...,\n         [0., 0., 0.],\n         [0., 0., 0.],\n         [0., 0., 0.]],\n\n        ...,\n\n        [[0., 0., 0.],\n         [0., 0., 0.],\n         [0., 0., 0.],\n         ...,\n         [0., 0., 0.],\n         [0., 0., 0.],\n         [0., 0., 0.]],\n\n        [[0., 0., 0.],\n         [0., 0., 0.],\n         [0., 0., 0.],\n         ...,\n         [0., 0., 0.],\n         [0., 0., 0.],\n         [0., 0., 0.]],\n\n        [[0., 0., 0.],\n         [0., 0., 0.],\n         [0., 0., 0.],\n         ...,\n         [0., 0., 0.],\n         [0., 0., 0.],\n         [0., 0., 0.]]],\n\n\n       [[[0., 0., 0.],\n         [0., 0., 0.],\n         [0., 0., 0.],\n         ...,\n         [0., 0., 0.],\n         [0., 0., 0.],\n         [0., 0., 0.]],\n\n        [[0., 0., 0.],\n         [0., 0., 0.],\n         [0., 0., 0.],\n         ...,\n         [0., 0., 0.],\n         [0., 0., 0.],\n         [0., 0., 0.]],\n\n        [[0., 0., 0.],\n         [0., 0., 0.],\n         [0., 0., 0.],\n         ...,\n         [0., 0., 0.],\n         [0., 0., 0.],\n         [0., 0., 0.]],\n\n        ...,\n\n        [[0., 0., 0.],\n         [0., 0., 0.],\n         [0., 0., 0.],\n         ...,\n         [0., 0., 0.],\n         [0., 0., 0.],\n         [0., 0., 0.]],\n\n        [[0., 0., 0.],\n         [0., 0., 0.],\n         [0., 0., 0.],\n         ...,\n         [0., 0., 0.],\n         [0., 0., 0.],\n         [0., 0., 0.]],\n\n        [[0., 0., 0.],\n         [0., 0., 0.],\n         [0., 0., 0.],\n         ...,\n         [0., 0., 0.],\n         [0., 0., 0.],\n         [0., 0., 0.]]],\n\n\n       [[[0., 0., 0.],\n         [0., 0., 0.],\n         [0., 0., 0.],\n         ...,\n         [0., 0., 0.],\n         [0., 0., 0.],\n         [0., 0., 0.]],\n\n        [[0., 0., 0.],\n         [0., 0., 0.],\n         [0., 0., 0.],\n         ...,\n         [0., 0., 0.],\n         [0., 0., 0.],\n         [0., 0., 0.]],\n\n        [[0., 0., 0.],\n         [0., 0., 0.],\n         [0., 0., 0.],\n         ...,\n         [0., 0., 0.],\n         [0., 0., 0.],\n         [0., 0., 0.]],\n\n        ...,\n\n        [[0., 0., 0.],\n         [0., 0., 0.],\n         [0., 0., 0.],\n         ...,\n         [0., 0., 0.],\n         [0., 0., 0.],\n         [0., 0., 0.]],\n\n        [[0., 0., 0.],\n         [0., 0., 0.],\n         [0., 0., 0.],\n         ...,\n         [0., 0., 0.],\n         [0., 0., 0.],\n         [0., 0., 0.]],\n\n        [[0., 0., 0.],\n         [0., 0., 0.],\n         [0., 0., 0.],\n         ...,\n         [0., 0., 0.],\n         [0., 0., 0.],\n         [0., 0., 0.]]]])"
     },
     "metadata": {},
     "execution_count": 19
    }
   ],
   "source": [
    "from tqdm import tqdm\n",
    "for x in tqdm(range(ceil(bounds_e[0]))):\n",
    "    #for y in tqdm(range(ceil(bounds_e[1]))):\n",
    "    for y in range(ceil(bounds_e[1])):\n",
    "        #for z in tqdm(range(ceil(bounds_e[2]))):\n",
    "        for z in range(ceil(bounds_e[2])):\n",
    "            target = df[(df['x'] == x) & (df['y'] == y) & (df['z'] == z)]\n",
    "            if len(target) == 0:\n",
    "                continue\n",
    "            typycal_colors[x,y,z] = [target['r'].mean(),target['g'].mean(),target['b'].mean()]\n",
    "typycal_colors"
   ]
  },
  {
   "cell_type": "code",
   "execution_count": 20,
   "metadata": {},
   "outputs": [
    {
     "output_type": "execute_result",
     "data": {
      "text/plain": "\"\\nfor x in range(ceil(bounds_e[0])):\\n    for y in range(ceil(bounds_e[1])):\\n        for z in range(ceil(bounds_e[2])):\\n            target = df[(df['x'] >= x) & (df['x'] < x+1) & (df['y'] >= y) & (df['y'] < y+1) & (df['z'] >= z) & (df['z'] < z+1)]\\n            typycal_colors[x,y,z] = [target['r'].mean(),target['g'].mean(),target['b'].mean()]\\ntypycal_colors\\n\""
     },
     "metadata": {},
     "execution_count": 20
    }
   ],
   "source": [
    "'''\n",
    "for x in range(ceil(bounds_e[0])):\n",
    "    for y in range(ceil(bounds_e[1])):\n",
    "        for z in range(ceil(bounds_e[2])):\n",
    "            target = df[(df['x'] >= x) & (df['x'] < x+1) & (df['y'] >= y) & (df['y'] < y+1) & (df['z'] >= z) & (df['z'] < z+1)]\n",
    "            typycal_colors[x,y,z] = [target['r'].mean(),target['g'].mean(),target['b'].mean()]\n",
    "typycal_colors\n",
    "'''"
   ]
  },
  {
   "cell_type": "code",
   "execution_count": 21,
   "metadata": {},
   "outputs": [
    {
     "output_type": "execute_result",
     "data": {
      "text/plain": "     x      y     z         r        g        b\n0  0.0  109.0  29.0  116.3565  85.6035  66.9120\n1  0.0  109.0  29.0  116.0760  85.3740  66.7335\n2  0.0  109.0  29.0  115.9740  85.2465  66.6315",
      "text/html": "<div>\n<style scoped>\n    .dataframe tbody tr th:only-of-type {\n        vertical-align: middle;\n    }\n\n    .dataframe tbody tr th {\n        vertical-align: top;\n    }\n\n    .dataframe thead th {\n        text-align: right;\n    }\n</style>\n<table border=\"1\" class=\"dataframe\">\n  <thead>\n    <tr style=\"text-align: right;\">\n      <th></th>\n      <th>x</th>\n      <th>y</th>\n      <th>z</th>\n      <th>r</th>\n      <th>g</th>\n      <th>b</th>\n    </tr>\n  </thead>\n  <tbody>\n    <tr>\n      <th>0</th>\n      <td>0.0</td>\n      <td>109.0</td>\n      <td>29.0</td>\n      <td>116.3565</td>\n      <td>85.6035</td>\n      <td>66.9120</td>\n    </tr>\n    <tr>\n      <th>1</th>\n      <td>0.0</td>\n      <td>109.0</td>\n      <td>29.0</td>\n      <td>116.0760</td>\n      <td>85.3740</td>\n      <td>66.7335</td>\n    </tr>\n    <tr>\n      <th>2</th>\n      <td>0.0</td>\n      <td>109.0</td>\n      <td>29.0</td>\n      <td>115.9740</td>\n      <td>85.2465</td>\n      <td>66.6315</td>\n    </tr>\n  </tbody>\n</table>\n</div>"
     },
     "metadata": {},
     "execution_count": 21
    }
   ],
   "source": [
    "target = df[(df['x'] == 0) & (df['y'] == 109) & (df['z'] == 29)]\n",
    "target"
   ]
  },
  {
   "cell_type": "code",
   "execution_count": 22,
   "metadata": {},
   "outputs": [
    {
     "output_type": "execute_result",
     "data": {
      "text/plain": "[116.1355, 85.408, 66.759]"
     },
     "metadata": {},
     "execution_count": 22
    }
   ],
   "source": [
    "[target['r'].mean(),target['g'].mean(),target['b'].mean()]"
   ]
  },
  {
   "cell_type": "code",
   "execution_count": 23,
   "metadata": {},
   "outputs": [],
   "source": [
    "#typycal_colors[0,0,0] = [target['r'].mean(),target['g'].mean(),target['b'].mean()]\n",
    "#typycal_colors[0,0,0]"
   ]
  },
  {
   "cell_type": "code",
   "execution_count": 25,
   "metadata": {},
   "outputs": [
    {
     "output_type": "execute_result",
     "data": {
      "text/plain": "array([[[  0.     ,   0.     ,   0.     ],\n        [  0.     ,   0.     ,   0.     ],\n        [  0.     ,   0.     ,   0.     ],\n        ...,\n        [  0.     ,   0.     ,   0.     ],\n        [  0.     ,   0.     ,   0.     ],\n        [  0.     ,   0.     ,   0.     ]],\n\n       [[  0.     ,   0.     ,   0.     ],\n        [  0.     ,   0.     ,   0.     ],\n        [  0.     ,   0.     ,   0.     ],\n        ...,\n        [  0.     ,   0.     ,   0.     ],\n        [  0.     ,   0.     ,   0.     ],\n        [  0.     ,   0.     ,   0.     ]],\n\n       [[  0.     ,   0.     ,   0.     ],\n        [  0.     ,   0.     ,   0.     ],\n        [  0.     ,   0.     ,   0.     ],\n        ...,\n        [536.60925, 431.44725, 380.70225],\n        [  0.     ,   0.     ,   0.     ],\n        [  0.     ,   0.     ,   0.     ]],\n\n       ...,\n\n       [[  0.     ,   0.     ,   0.     ],\n        [  0.     ,   0.     ,   0.     ],\n        [  0.     ,   0.     ,   0.     ],\n        ...,\n        [  0.     ,   0.     ,   0.     ],\n        [  0.     ,   0.     ,   0.     ],\n        [  0.     ,   0.     ,   0.     ]],\n\n       [[  0.     ,   0.     ,   0.     ],\n        [  0.     ,   0.     ,   0.     ],\n        [  0.     ,   0.     ,   0.     ],\n        ...,\n        [  0.     ,   0.     ,   0.     ],\n        [  0.     ,   0.     ,   0.     ],\n        [  0.     ,   0.     ,   0.     ]],\n\n       [[  0.     ,   0.     ,   0.     ],\n        [  0.     ,   0.     ,   0.     ],\n        [  0.     ,   0.     ,   0.     ],\n        ...,\n        [  0.     ,   0.     ,   0.     ],\n        [  0.     ,   0.     ,   0.     ],\n        [  0.     ,   0.     ,   0.     ]]])"
     },
     "metadata": {},
     "execution_count": 25
    }
   ],
   "source": [
    "sum(typycal_colors)"
   ]
  },
  {
   "cell_type": "code",
   "execution_count": 31,
   "metadata": {},
   "outputs": [
    {
     "output_type": "execute_result",
     "data": {
      "text/plain": "          x      y     z\n0       0.0  109.0  29.0\n1       0.0  109.0  29.0\n2       0.0  109.0  29.0\n3       0.0  109.0  30.0\n4       0.0  110.0  28.0\n...     ...    ...   ...\n45793  85.0  176.0  20.0\n45794  85.0  176.0  21.0\n45795  85.0  177.0  18.0\n45796  85.0  177.0  19.0\n45797  85.0  177.0  20.0\n\n[45798 rows x 3 columns]",
      "text/html": "<div>\n<style scoped>\n    .dataframe tbody tr th:only-of-type {\n        vertical-align: middle;\n    }\n\n    .dataframe tbody tr th {\n        vertical-align: top;\n    }\n\n    .dataframe thead th {\n        text-align: right;\n    }\n</style>\n<table border=\"1\" class=\"dataframe\">\n  <thead>\n    <tr style=\"text-align: right;\">\n      <th></th>\n      <th>x</th>\n      <th>y</th>\n      <th>z</th>\n    </tr>\n  </thead>\n  <tbody>\n    <tr>\n      <th>0</th>\n      <td>0.0</td>\n      <td>109.0</td>\n      <td>29.0</td>\n    </tr>\n    <tr>\n      <th>1</th>\n      <td>0.0</td>\n      <td>109.0</td>\n      <td>29.0</td>\n    </tr>\n    <tr>\n      <th>2</th>\n      <td>0.0</td>\n      <td>109.0</td>\n      <td>29.0</td>\n    </tr>\n    <tr>\n      <th>3</th>\n      <td>0.0</td>\n      <td>109.0</td>\n      <td>30.0</td>\n    </tr>\n    <tr>\n      <th>4</th>\n      <td>0.0</td>\n      <td>110.0</td>\n      <td>28.0</td>\n    </tr>\n    <tr>\n      <th>...</th>\n      <td>...</td>\n      <td>...</td>\n      <td>...</td>\n    </tr>\n    <tr>\n      <th>45793</th>\n      <td>85.0</td>\n      <td>176.0</td>\n      <td>20.0</td>\n    </tr>\n    <tr>\n      <th>45794</th>\n      <td>85.0</td>\n      <td>176.0</td>\n      <td>21.0</td>\n    </tr>\n    <tr>\n      <th>45795</th>\n      <td>85.0</td>\n      <td>177.0</td>\n      <td>18.0</td>\n    </tr>\n    <tr>\n      <th>45796</th>\n      <td>85.0</td>\n      <td>177.0</td>\n      <td>19.0</td>\n    </tr>\n    <tr>\n      <th>45797</th>\n      <td>85.0</td>\n      <td>177.0</td>\n      <td>20.0</td>\n    </tr>\n  </tbody>\n</table>\n<p>45798 rows × 3 columns</p>\n</div>"
     },
     "metadata": {},
     "execution_count": 31
    }
   ],
   "source": [
    "df[idxs]"
   ]
  },
  {
   "cell_type": "code",
   "execution_count": null,
   "metadata": {},
   "outputs": [],
   "source": []
  }
 ],
 "metadata": {
  "language_info": {
   "codemirror_mode": {
    "name": "ipython",
    "version": 3
   },
   "file_extension": ".py",
   "mimetype": "text/x-python",
   "name": "python",
   "nbconvert_exporter": "python",
   "pygments_lexer": "ipython3",
   "version": "3.7.7-final"
  },
  "orig_nbformat": 2,
  "kernelspec": {
   "name": "python37764bitobj2schematiccondaddadbb272fa7485789f23bb0e8dbad92",
   "display_name": "Python 3.7.7 64-bit ('obj2schematic': conda)"
  }
 },
 "nbformat": 4,
 "nbformat_minor": 2
}